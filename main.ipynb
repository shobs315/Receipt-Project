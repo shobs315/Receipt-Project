{
 "cells": [
  {
   "cell_type": "code",
   "execution_count": 1,
   "metadata": {},
   "outputs": [],
   "source": [
    "import receipt_analyzer as ra"
   ]
  },
  {
   "cell_type": "code",
   "execution_count": 2,
   "metadata": {},
   "outputs": [],
   "source": [
    "file = \"test receipt.jpg\"\n",
    "receipt = ra.get_receipt(file)"
   ]
  },
  {
   "cell_type": "code",
   "execution_count": 3,
   "metadata": {},
   "outputs": [
    {
     "name": "stdout",
     "output_type": "stream",
     "text": [
      "Receipt Type: receipt.retailMeal\n",
      "Transaction Date: 2018-01-01 has confidence: 0.99\n",
      "Receipt items:\n",
      "...Item #1\n",
      "......Item Description: Lorem has confidence: 0.994\n",
      "......Total Item Price: 6.5 has confidence: 0.995\n",
      "...Item #2\n",
      "......Item Description: Ipsum has confidence: 0.994\n",
      "......Total Item Price: 7.5 has confidence: 0.995\n",
      "...Item #3\n",
      "......Item Description: Dolor Sit has confidence: 0.994\n",
      "......Total Item Price: 48.0 has confidence: 0.995\n",
      "...Item #4\n",
      "......Item Description: Amet has confidence: 0.994\n",
      "......Total Item Price: 9.3 has confidence: 0.995\n",
      "...Item #5\n",
      "......Item Description: Consectetur has confidence: 0.994\n",
      "......Total Item Price: 11.9 has confidence: 0.995\n",
      "...Item #6\n",
      "......Item Description: Adipiscing Elit has confidence: 0.995\n",
      "......Total Item Price: 1.2 has confidence: 0.995\n",
      "...Item #7\n",
      "......Item Description: Sed Do has confidence: 0.995\n",
      "......Total Item Price: 0.4 has confidence: 0.995\n",
      "Subtotal: 76.8 has confidence: 0.988\n",
      "Tax: 8.0 has confidence: 0.99\n",
      "Total: 84.8 has confidence: 0.981\n",
      "--------------------------------------\n"
     ]
    }
   ],
   "source": [
    "ra.print_receipt(receipt)"
   ]
  },
  {
   "cell_type": "code",
   "execution_count": 4,
   "metadata": {},
   "outputs": [
    {
     "name": "stdout",
     "output_type": "stream",
     "text": [
      "  item_description  item_total_price\n",
      "0            Lorem               6.5\n",
      "1            Ipsum               7.5\n",
      "2        Dolor Sit              48.0\n",
      "3             Amet               9.3\n",
      "4      Consectetur              11.9\n",
      "5  Adipiscing Elit               1.2\n",
      "6           Sed Do               0.4\n",
      "{'item_description': 0.994, 'item_quantity': 1, 'item_price': 1, 'item_total_price': 0.995}\n"
     ]
    }
   ],
   "source": [
    "(items, confidences) = ra.get_items(receipt)\n",
    "print(items)\n",
    "\n",
    "print(confidences)\n"
   ]
  }
 ],
 "metadata": {
  "kernelspec": {
   "display_name": "Python 3",
   "language": "python",
   "name": "python3"
  },
  "language_info": {
   "codemirror_mode": {
    "name": "ipython",
    "version": 3
   },
   "file_extension": ".py",
   "mimetype": "text/x-python",
   "name": "python",
   "nbconvert_exporter": "python",
   "pygments_lexer": "ipython3",
   "version": "3.11.0"
  },
  "orig_nbformat": 4
 },
 "nbformat": 4,
 "nbformat_minor": 2
}
